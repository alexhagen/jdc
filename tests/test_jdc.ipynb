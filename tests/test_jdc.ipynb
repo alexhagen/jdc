{
 "cells": [
  {
   "cell_type": "markdown",
   "metadata": {},
   "source": [
    "# Example"
   ]
  },
  {
   "cell_type": "markdown",
   "metadata": {},
   "source": [
    "Below is an example on how to use ``jdc``.  First we have to import the class:"
   ]
  },
  {
   "cell_type": "code",
   "execution_count": 1,
   "metadata": {
    "collapsed": true
   },
   "outputs": [],
   "source": [
    "import jdc"
   ]
  },
  {
   "cell_type": "markdown",
   "metadata": {},
   "source": [
    "Then, we have to make a dummy class:"
   ]
  },
  {
   "cell_type": "code",
   "execution_count": 2,
   "metadata": {
    "collapsed": true
   },
   "outputs": [],
   "source": [
    "class dog(object):\n",
    "    def __init__(self, name, noise):\n",
    "        self.name = name\n",
    "        self.noise = noise\n",
    "        \n",
    "        \n",
    "rover = dog('Rover', 'ruff')\n",
    "spot = dog('Spot', 'woof')"
   ]
  },
  {
   "cell_type": "markdown",
   "metadata": {},
   "source": [
    "Then, we want to add a function to that class:"
   ]
  },
  {
   "cell_type": "code",
   "execution_count": 3,
   "metadata": {},
   "outputs": [],
   "source": [
    "%%add_to dog\n",
    "def bark(self, times=1):\n",
    "    saying = ('%s ' % self.noise) * times\n",
    "    print \"%s says: %s\" % (self.name, saying)\n",
    "    \n",
    "def bark2(self, times=1):\n",
    "    saying = ('%s ' % self.noise) * times\n",
    "    print \"%s says: %s\" % (self.name, saying)"
   ]
  },
  {
   "cell_type": "markdown",
   "metadata": {},
   "source": [
    "And now we can access that function from any method of that class."
   ]
  },
  {
   "cell_type": "code",
   "execution_count": 4,
   "metadata": {},
   "outputs": [
    {
     "name": "stdout",
     "output_type": "stream",
     "text": [
      "Rover says: ruff \n",
      "Spot says: woof woof \n"
     ]
    }
   ],
   "source": [
    "rover.bark(1)\n",
    "spot.bark(2)"
   ]
  },
  {
   "cell_type": "markdown",
   "metadata": {},
   "source": [
    "If we want to add a function to only one object of that class, we can do that, as well:"
   ]
  },
  {
   "cell_type": "code",
   "execution_count": 5,
   "metadata": {},
   "outputs": [],
   "source": [
    "%%add_to spot\n",
    "def sit(self):\n",
    "    print '%s is now sitting' % self.name"
   ]
  },
  {
   "cell_type": "code",
   "execution_count": 6,
   "metadata": {},
   "outputs": [
    {
     "name": "stdout",
     "output_type": "stream",
     "text": [
      "Spot is now sitting\n"
     ]
    }
   ],
   "source": [
    "spot.sit()"
   ]
  },
  {
   "cell_type": "markdown",
   "metadata": {},
   "source": [
    "Note that the function added to a class object is only available to that object, not all objects of that class:"
   ]
  },
  {
   "cell_type": "code",
   "execution_count": 7,
   "metadata": {},
   "outputs": [
    {
     "name": "stdout",
     "output_type": "stream",
     "text": [
      "Rover doesn't know that trick\n"
     ]
    }
   ],
   "source": [
    "try: \n",
    "    rover.sit()\n",
    "except AttributeError:\n",
    "    print \"%s doesn't know that trick\" % rover.name"
   ]
  },
  {
   "cell_type": "markdown",
   "metadata": {},
   "source": [
    "And if we're writing a lot of code, we can now do that in a single cell."
   ]
  },
  {
   "cell_type": "code",
   "execution_count": 8,
   "metadata": {},
   "outputs": [],
   "source": [
    "%%add_to spot\n",
    "def rollover(self):\n",
    "    print \"%s rolled over\" % self.name\n",
    "    \n",
    "def highfive(self):\n",
    "    print \"%s is trying to high five you\" % self.name\n",
    "    \n",
    "def domytaxes(self):\n",
    "    print \"%s is just showing off now\" % self.name"
   ]
  },
  {
   "cell_type": "code",
   "execution_count": 9,
   "metadata": {},
   "outputs": [
    {
     "name": "stdout",
     "output_type": "stream",
     "text": [
      "Spot rolled over\n",
      "Spot is trying to high five you\n",
      "Spot is just showing off now\n"
     ]
    }
   ],
   "source": [
    "spot.rollover()\n",
    "spot.highfive()\n",
    "spot.domytaxes()"
   ]
  },
  {
   "cell_type": "markdown",
   "metadata": {},
   "source": [
    "Nesting functions and decorators should now work.  Notice when calling the wrapped function that we must call it by ``func(self, *args)`` instead of ``self.func(*args)`` or ``func(*args)``."
   ]
  },
  {
   "cell_type": "code",
   "execution_count": 10,
   "metadata": {},
   "outputs": [],
   "source": [
    "%%add_to dog\n",
    "def race(func):\n",
    "    def wrapper(self):\n",
    "        import time\n",
    "        t1 = time.time()\n",
    "        func(self)\n",
    "        t2 = time.time()\n",
    "        print \"A new record time, %s finished in: \" % self.name + str((t2 - t1)) + \" seconds!\\n\"\n",
    "    return wrapper\n",
    "\n",
    "@race\n",
    "def race_course(self):\n",
    "    print \"%s finished the course.\" % self.name"
   ]
  },
  {
   "cell_type": "code",
   "execution_count": 11,
   "metadata": {},
   "outputs": [
    {
     "name": "stdout",
     "output_type": "stream",
     "text": [
      "Spot finished the course.\n",
      "A new record time, Spot finished in: 0.000486850738525 seconds!\n",
      "\n"
     ]
    }
   ],
   "source": [
    "spot.race_course()"
   ]
  },
  {
   "cell_type": "markdown",
   "metadata": {},
   "source": [
    "and that's it."
   ]
  }
 ],
 "metadata": {
  "hide_input": false,
  "kernelspec": {
   "display_name": "Python 2",
   "language": "python",
   "name": "python2"
  },
  "language_info": {
   "codemirror_mode": {
    "name": "ipython",
    "version": 2
   },
   "file_extension": ".py",
   "mimetype": "text/x-python",
   "name": "python",
   "nbconvert_exporter": "python",
   "pygments_lexer": "ipython2",
   "version": "2.7.12"
  },
  "latex_envs": {
   "LaTeX_envs_menu_present": true,
   "autocomplete": true,
   "bibliofile": "bibs/dissertation.bib",
   "cite_by": "apalike",
   "current_citInitial": 1,
   "eqLabelWithNumbers": true,
   "eqNumInitial": 1,
   "hotkeys": {
    "equation": "Ctrl-E",
    "itemize": "Ctrl-I"
   },
   "labels_anchors": false,
   "latex_user_defs": false,
   "report_style_numbering": false,
   "user_envs_cfg": false
  }
 },
 "nbformat": 4,
 "nbformat_minor": 2
}
